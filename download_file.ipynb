{
 "cells": [
  {
   "cell_type": "code",
   "execution_count": 1,
   "id": "31f4e5a6-d39d-493b-a078-742d80ce46e7",
   "metadata": {},
   "outputs": [],
   "source": [
    "grand_prix_name = 'san marino'\n",
    "year_name = '2022'\n",
    "headless = True\n",
    "fullscreen = False"
   ]
  },
  {
   "cell_type": "code",
   "execution_count": 2,
   "id": "2448a04a-4dfc-4bbe-9aa6-3a0371ac3735",
   "metadata": {},
   "outputs": [],
   "source": [
    "# если название гран-при состоит из более одного слова \n",
    "grand_prix_name_split = grand_prix_name.split()\n",
    "grand_prix_name_elements_num = len(grand_prix_name_split)\n",
    "if grand_prix_name_elements_num > 1:\n",
    "    # и заменим пробелы на '_'\n",
    "    grand_prix_name_file = '_'.join(grand_prix_name_split)\n",
    "# если нет, то создадим переменную\n",
    "else:\n",
    "    grand_prix_name_file = grand_prix_name\n",
    "\n",
    "analysis_file_name = year_name + '_' + grand_prix_name_file + '_analysis.pdf'\n",
    "lapchart_file_name = year_name + '_' + grand_prix_name_file + '_lapchart.pdf'"
   ]
  },
  {
   "cell_type": "markdown",
   "id": "cc3663dd-baa2-44c4-9b9a-ae267e6ac2a9",
   "metadata": {},
   "source": [
    "#### Code for .py file"
   ]
  },
  {
   "cell_type": "code",
   "execution_count": 3,
   "id": "3f883b3f-d2b2-478c-ad88-59a3b46e1975",
   "metadata": {},
   "outputs": [],
   "source": [
    "import numpy as np\n",
    "import datetime as dt\n",
    "import os\n",
    "import time\n",
    "import urllib\n",
    "import requests\n",
    "\n",
    "from selenium import webdriver\n",
    "from selenium.webdriver.common.by import By\n",
    "from selenium.webdriver.support.ui import WebDriverWait\n",
    "from selenium.webdriver.support import expected_conditions as EC\n",
    "from selenium.common.exceptions import TimeoutException\n",
    "from pathlib import Path"
   ]
  },
  {
   "cell_type": "code",
   "execution_count": 4,
   "id": "51a01bd6-02fa-4986-b956-84e85a36431c",
   "metadata": {},
   "outputs": [],
   "source": [
    "def open_dropdown(driver, dropdown_xpath, element_name, check_condition=False):\n",
    "    \n",
    "    # запомним адрес текущей страницы\n",
    "    current_url = driver.current_url\n",
    "    \n",
    "    # открыть меню с перечнем гран-при, прошедших в текущем сезоне           \n",
    "    dropdown = WebDriverWait(driver, 15) \\\n",
    "                .until(EC.presence_of_element_located((By.XPATH, dropdown_xpath)))\n",
    "    # зафиксируем текст внутри выпадающего меню\n",
    "    dropdown_text = dropdown.get_attribute('textContent')\n",
    "\n",
    "    driver.execute_script(\"arguments[0].click();\", dropdown)\n",
    "\n",
    "    # найти элемент( название гран-при, год) по заранее заданному имени имени\n",
    "    # element = WebDriverWait(driver, 15) \\\n",
    "    #             .until(EC.presence_of_element_located((By.XPATH, \\\n",
    "    #             '//*[contains(text(), \"{}\")]'.format(element_name))))\n",
    "    \n",
    "    element = driver.find_element(By.XPATH, \\\n",
    "                '//*[contains(text(), \"{}\") and @class=\"v-list-item__title\"]'.format(element_name))\n",
    "\n",
    "    driver.execute_script(\"arguments[0].click();\", element)\n",
    "    \n",
    "    if check_condition:\n",
    "        # проконтролируем то, что javascript прогрузился полностью и \n",
    "        # на странице появились данные именно те данные, которые\n",
    "        # нам требуются;\n",
    "        # дл фиксации используем понимание того, что вместе с обновлением\n",
    "        # данных на странице обновится и ссылка\n",
    "        # если нам необходимы данные последней прошедшей гонки, то\n",
    "        # этот пукнт можно не выполнять, так как мы уже находимя на нужной странице\n",
    "        # с правильным адресом\n",
    "\n",
    "        # если он не включает в себя название того, что мы ищем\n",
    "        # (что означает, что пока мы не находимся на странице с нужными данными)\n",
    "        if element_name not in dropdown_text:\n",
    "\n",
    "            # зафиксируем состояние\n",
    "            condition = True\n",
    "            # если оно не изменилось\n",
    "            while condition:\n",
    "                # определяем ссылку странице, на которой находимся\n",
    "                new_url = driver.current_url\n",
    "                # если она не совпадает с той, на которой мы находились до \n",
    "                # запуска функции, то это означает, что прогрузились новые данные - \n",
    "                # те, которые нам нужны\n",
    "                if new_url not in current_url:\n",
    "                    # меняем состояние и тем самым завершаем цикл\n",
    "                    condition = False\n",
    "\n",
    "\n",
    "def download_file(href, file_name):\n",
    "    \n",
    "#     path = '/pers_motogp/races_protocols'\n",
    "\n",
    "#     file = Path(path)\n",
    "#     if not file.is_file():\n",
    "#         # file not exists\n",
    "#         r = requests.get(href)\n",
    "#         with open('/pers_motogp/races_protocols', 'wb') as folder:\n",
    "#             folder.write(r.content)\n",
    "            \n",
    "    if not os.path.isfile(file_name):\n",
    "        urllib.request.urlretrieve(href, file_name)\n",
    "    \n",
    "        \n",
    "def retry_loading_simple(driver):\n",
    "    \n",
    "    print('Timeout, retrying 1...')\n",
    "    \n",
    "    # создаем переменную с сылкой текущей страницы\n",
    "    current_url = chrome.current_url\n",
    "    # создаем счетчик\n",
    "    k = 2\n",
    "    # задаем условие\n",
    "    condition = True\n",
    "    # пока оно выполняется\n",
    "    while condition:\n",
    "        # пробуем\n",
    "        try:\n",
    "            # пройти по текущей ссылке\n",
    "            driver.get(current_url)\n",
    "            # если это удалось, условие перестает выполняться\n",
    "            # и цикла завершается\n",
    "            condition = False\n",
    "        # если страница не загрузилась из-за таймаута\n",
    "        # обновляем страницу и повторяем цикл\n",
    "        except TimeoutException:\n",
    "            print('Timeout, retrying {}...'.format(k))\n",
    "            k += 1\n",
    "            # driver.refresh()\n",
    "            pass\n",
    "        \n",
    "        \n",
    "def retry_loading(driver):\n",
    "    \n",
    "    print('Timeout, retrying 1...')\n",
    "    # создаем счетчик\n",
    "    k = 2\n",
    "    \n",
    "    try: \n",
    "        # создаем переменную с сылкой текущей страницы\n",
    "        current_url = driver.current_url\n",
    "        # задаем условие\n",
    "        condition = True\n",
    "        # пока оно выполняется\n",
    "        while condition:\n",
    "            # пробуем\n",
    "            try:\n",
    "                # пройти по текущей ссылке\n",
    "                driver.get(current_url)\n",
    "                # если это удалось, условие перестает выполняться\n",
    "                # и цикла завершается\n",
    "                condition = False\n",
    "            # если страница не загрузилась из-за таймаута\n",
    "            # обновляем страницу и повторяем цикл\n",
    "            # данным таймаутом мы контролируем переход по ссылке\n",
    "            except TimeoutException:\n",
    "                print('Timeout, retrying {}...'.format(k))\n",
    "                k += 1\n",
    "                # обновление здесь не корректно, потому что обновление произойдет по старому адрес\n",
    "                # эта страница так устроена, что сначала загружается один адрес, а через некотрое \n",
    "                # время он меняется на другой; соответственно простое обновление страницы сбросит все\n",
    "                # введенные до этого данные\n",
    "                # driver.refresh()\n",
    "                pass\n",
    "\n",
    "    # этим таймаутом мы контролируем зависание на моменте получения\n",
    "    # ссылки текущей страницы вначале первого try\n",
    "    except TimeoutException:\n",
    "        pass"
   ]
  },
  {
   "cell_type": "code",
   "execution_count": 5,
   "id": "4e278d13-d9d6-44a5-88a5-a10cd11bee54",
   "metadata": {},
   "outputs": [],
   "source": [
    "time_start = time.time()"
   ]
  },
  {
   "cell_type": "code",
   "execution_count": 6,
   "id": "44b7de25-9c3a-4f80-ae2a-9307eaeacf7b",
   "metadata": {},
   "outputs": [],
   "source": [
    "# преобразовываем название гран-при\n",
    "grand_prix_name_upper = str(grand_prix_name).upper()"
   ]
  },
  {
   "cell_type": "code",
   "execution_count": 7,
   "id": "e342791e-97b9-4b1c-bf0e-05af05b8790d",
   "metadata": {},
   "outputs": [],
   "source": [
    "# присваемваем переменным извстные id\n",
    "cookies_id = 'onetrust-accept-btn-handler'\n",
    "results_id = 'mmResults'"
   ]
  },
  {
   "cell_type": "code",
   "execution_count": 8,
   "id": "3fe9246d-2d30-4892-a24f-16b692a72018",
   "metadata": {},
   "outputs": [],
   "source": [
    "# присываемваем переменным известные paths\n",
    "year_dropdown_xpath = \\\n",
    "    '//*[@id=\"main-container\"]/div/div[2]/div/div/div[4]/div[1]/div/div/div'\n",
    "grand_prix_dropdown_xpath = \\\n",
    "    '//*[@id=\"main-container\"]/div/div[2]/div/div/div[4]/div[2]/div/div/div'\n",
    "current_grandprix_title_path = '//*[@id=\"header\"]/div/div[1]/div/span'\n",
    "more_results_xpath = \\\n",
    "    '//*[@id=\"main-container\"]/div/div[3]/div/div[1]/div[1]/span[2]/div/div[1]'\n",
    "more_results_class_name = 'c-docNav__link qa_menu_world_standing px-0 v-tab'\n",
    "more_results_xpath_w_class_name = \\\n",
    "    '//div[@class=\"v-list-group__header v-list-item v-list-item--active v-list-item--link theme--light\"]'\n",
    "analysis_xpath = \\\n",
    "    '//*[@id=\"main-container\"]/div/div[3]/div/div[1]/div[1]/span[2]/div/div[2]/a[1]'\n",
    "lapchart_xpath = \\\n",
    "    '//*[@id=\"main-container\"]/div/div[3]/div/div[1]/div[1]/span[2]/div/div[2]/a[4]'"
   ]
  },
  {
   "cell_type": "code",
   "execution_count": 9,
   "id": "9511ff5d-4d31-47cb-9b35-231ca16c7b5c",
   "metadata": {},
   "outputs": [],
   "source": [
    "# инициируем переменную с настройками chrome\n",
    "options = webdriver.ChromeOptions()\n",
    "\n",
    "# запустить chrome в полноэкранном режиме\n",
    "if fullscreen:\n",
    "    options.add_argument(\"--kiosk\")\n",
    "    options.add_argument(\"--start-maximized\")\n",
    "\n",
    "# не отображать интерфейс и окно chrome \n",
    "if not browser_interface:\n",
    "    options.add_argument(\"--headless\")\n",
    "\n",
    "options.add_argument(\"window-size=1920x1080\")\n",
    "\n",
    "# неотображать надпись о том, что браузером управляет тестовое ПО\n",
    "options.add_experimental_option(\"excludeSwitches\", ['enable-automation'])"
   ]
  },
  {
   "cell_type": "code",
   "execution_count": 10,
   "id": "29ee8a44-b5ef-43b2-af89-ba208f05baf6",
   "metadata": {},
   "outputs": [],
   "source": [
    "# создаем эмулятор браузера\n",
    "chrome = webdriver.Chrome(options=options)\n",
    "\n",
    "# определяем максимальную длительность загрузки\n",
    "# сайта для таймаута\n",
    "chrome.set_page_load_timeout(20)"
   ]
  },
  {
   "cell_type": "code",
   "execution_count": 11,
   "id": "82fb82ba-9984-4e68-8ced-55679a49a6dc",
   "metadata": {},
   "outputs": [],
   "source": [
    "# переходим на сайт motogp\n",
    "k = 1\n",
    "condition = True\n",
    "while condition:\n",
    "    try:\n",
    "        chrome.get('http://www.motogp.com')\n",
    "        condition = False\n",
    "    except TimeoutException:\n",
    "        print('Timeout, retrying {}...'.format(k))\n",
    "        chrome.refresh()\n",
    "        k += 1\n",
    "del k"
   ]
  },
  {
   "cell_type": "code",
   "execution_count": 12,
   "id": "b5a296aa-1b2f-43ff-a8e8-472021cf18d5",
   "metadata": {},
   "outputs": [
    {
     "name": "stdout",
     "output_type": "stream",
     "text": [
      "https://www.motogp.com/\n"
     ]
    }
   ],
   "source": [
    "# убедимся, что открылось нужно окно\n",
    "assert 'MotoGP' in chrome.title\n",
    "print(chrome.current_url)"
   ]
  },
  {
   "cell_type": "code",
   "execution_count": 13,
   "id": "c084d0fc-588e-422b-a547-29ba7e030313",
   "metadata": {},
   "outputs": [],
   "source": [
    "# cookies accept\n",
    "cookies_form = WebDriverWait(chrome, 5).until( \\\n",
    "               EC.element_to_be_clickable((By.ID, cookies_id)))"
   ]
  },
  {
   "cell_type": "code",
   "execution_count": 14,
   "id": "ede99d59-3503-4653-9f6e-d7aa9461655b",
   "metadata": {},
   "outputs": [],
   "source": [
    "cookies_form.click()"
   ]
  },
  {
   "cell_type": "code",
   "execution_count": 15,
   "id": "526041fa-0450-44b9-8b68-742e34bccde3",
   "metadata": {},
   "outputs": [],
   "source": [
    "# создем переменную, в которой будет храниться элемент\n",
    "# results на главной странице сайта\n",
    "results = WebDriverWait(chrome, 15) \\\n",
    "            .until(EC.presence_of_element_located((By.ID, results_id)))"
   ]
  },
  {
   "cell_type": "code",
   "execution_count": 16,
   "id": "ea130502-63e4-41c8-8f31-977505373a31",
   "metadata": {},
   "outputs": [],
   "source": [
    "# кликаем по results и переходим на новую страницу\n",
    "try:\n",
    "    chrome.execute_script(\"arguments[0].click();\", results)\n",
    "    # зафиксируем, что retrying не было\n",
    "    retrying = False\n",
    "except TimeoutException:\n",
    "    # учтем, что retrying был, это пригодится в дальнейшем\n",
    "    retrying = True\n",
    "    retry_loading(chrome)"
   ]
  },
  {
   "cell_type": "code",
   "execution_count": 17,
   "id": "89ec27da-1d37-4325-bc06-47f9a97233cd",
   "metadata": {},
   "outputs": [
    {
     "name": "stdout",
     "output_type": "stream",
     "text": [
      "https://www.motogp.com/en/gp-results/2022/VAL/MotoGP/RAC/Classification\n"
     ]
    }
   ],
   "source": [
    "# убедимся, что открылось нужное окно и страница с результатами прогрузилась полностью\n",
    "# (потому что изначально страница results открывает с одноим адресом, через некоторое \n",
    "# время адрес меняется на другой)\n",
    "# дождаться изменения адрес необходимо потому, что в следующей функции open_dropdown\n",
    "# именно через адрес страницы осуществляется контроль того, что подгрузились выбранные \n",
    "# нами характеристики - нужные год и название гран-при\n",
    "\n",
    "# сперва проверим заголовок\n",
    "# assert 'RESULTS' in chrome.title\n",
    "\n",
    "# если был retrying и страница уже перезагружалась, то адрес уже\n",
    "# сменился и данную проверку можно не делать \n",
    "if not retrying:\n",
    "    # фиксирум текущий адрес сртаницы \n",
    "    current_url = chrome.current_url\n",
    "    # если он не содержит слово 'Classification', то адрес еще не изменился\n",
    "    # (старый адрес не содержит этого слова)\n",
    "    if 'Classification' not in current_url:\n",
    "        # фиксируем состояние\n",
    "        condition = True\n",
    "        while condition:\n",
    "            # продолжаем фиксировать адрес страницы\n",
    "            new_url = chrome.current_url\n",
    "            # и ждем, пока в нем не появится слово 'Classification'\n",
    "            if 'Classification' in new_url:\n",
    "                condition = False\n",
    "\n",
    "print(chrome.current_url)"
   ]
  },
  {
   "cell_type": "code",
   "execution_count": 18,
   "id": "dd220add-007d-49ad-8e0e-e133a989b269",
   "metadata": {},
   "outputs": [],
   "source": [
    "# раскрываем выпадающее меню с годом\n",
    "# и выбираем год, определенный вначале скрипта\n",
    "open_dropdown(\n",
    "    driver=chrome,\n",
    "    dropdown_xpath=year_dropdown_xpath,\n",
    "    element_name=year_name,\n",
    "    check_condition=True\n",
    ")"
   ]
  },
  {
   "cell_type": "code",
   "execution_count": 19,
   "id": "67d0bdff-b04d-4d69-8524-73ffea18b73a",
   "metadata": {},
   "outputs": [],
   "source": [
    "# раскрываем выпадающее меню с названием гран-при и выбираем гран-при, \n",
    "# определенное вначале скрипта\n",
    "# после того, как мы выбрали интересующий нас год в предыдущем open_dropdown \n",
    "# и выбрали интересующий нас гран-при в этом open_dropdown, \n",
    "# проконтролируем, что данные полнстью загрузятся с помощью аргумента check_condition\n",
    "# и только после этого продолжим выполнение скрипта\n",
    "open_dropdown(\n",
    "    driver=chrome,\n",
    "    dropdown_xpath=grand_prix_dropdown_xpath,\n",
    "    element_name=grand_prix_name_upper,\n",
    "    check_condition=True\n",
    ")"
   ]
  },
  {
   "cell_type": "code",
   "execution_count": 20,
   "id": "3af75654-5cbb-42be-809b-deb4a59d8db5",
   "metadata": {},
   "outputs": [],
   "source": [
    "# # создем переменную, в которой будет храниться элемент\n",
    "# more results на этой странице\n",
    "more_results = WebDriverWait(chrome, 15) \\\n",
    "                .until(EC.presence_of_element_located((By.XPATH, more_results_xpath)))"
   ]
  },
  {
   "cell_type": "code",
   "execution_count": 21,
   "id": "eadb98f4-1f69-44f6-9f7f-b5c2e78e89ee",
   "metadata": {},
   "outputs": [],
   "source": [
    "# кликаем по more results\n",
    "chrome.execute_script(\"arguments[0].click();\", more_results)"
   ]
  },
  {
   "cell_type": "code",
   "execution_count": 22,
   "id": "b86d50a6-b36d-41bf-82a4-50ed25c12f6f",
   "metadata": {},
   "outputs": [],
   "source": [
    "# определяем элементы analysis и lapchart,\n",
    "# в которых хранятся ссылки на интересующие нас файлы\n",
    "analysis = WebDriverWait(chrome, 15) \\\n",
    "            .until(EC.presence_of_element_located((By.XPATH, analysis_xpath)))\n",
    "lapchart = WebDriverWait(chrome, 15) \\\n",
    "            .until(EC.presence_of_element_located((By.XPATH, lapchart_xpath)))"
   ]
  },
  {
   "cell_type": "code",
   "execution_count": 23,
   "id": "cea38899-7489-4c95-86b6-177dbfa72dfa",
   "metadata": {},
   "outputs": [],
   "source": [
    "# извлекаем ссылки из элементов analysis и lapchart\n",
    "analysis_href = analysis.get_attribute('href')\n",
    "lapchart_href = lapchart.get_attribute('href')"
   ]
  },
  {
   "cell_type": "code",
   "execution_count": 24,
   "id": "6456c24c-e77d-448e-b690-006db6d6c0fb",
   "metadata": {},
   "outputs": [],
   "source": [
    "# скачиваем файлы\n",
    "download_file(analysis_href, analysis_file_name)\n",
    "download_file(lapchart_href, lapchart_file_name)"
   ]
  },
  {
   "cell_type": "code",
   "execution_count": 25,
   "id": "19bd4862-8458-414d-8234-99a84379ce50",
   "metadata": {},
   "outputs": [
    {
     "name": "stdout",
     "output_type": "stream",
     "text": [
      "https://www.motogp.com/en/gp-results/2022/RSM/MotoGP/RAC/Classification\n"
     ]
    }
   ],
   "source": [
    "# зафиксируем адрес страницы перед закрытием браузера\n",
    "print(chrome.current_url)"
   ]
  },
  {
   "cell_type": "code",
   "execution_count": 26,
   "id": "04c61cda-7209-4f0f-94fa-ded9888063b1",
   "metadata": {},
   "outputs": [],
   "source": [
    "# закрываем браузер\n",
    "chrome.close()"
   ]
  },
  {
   "cell_type": "code",
   "execution_count": 27,
   "id": "8587091e-cc2d-4f34-afd6-116ae332c603",
   "metadata": {},
   "outputs": [
    {
     "name": "stdout",
     "output_type": "stream",
     "text": [
      "Execution time: 0:00:42 \n",
      "\n"
     ]
    }
   ],
   "source": [
    "time_finish = time.time()\n",
    "time_execution = str(dt.timedelta(seconds=np.round(time_finish - time_start)))\n",
    "print('Execution time: {}'.format(time_execution), '\\n')"
   ]
  }
 ],
 "metadata": {
  "kernelspec": {
   "display_name": "Python 3 (ipykernel)",
   "language": "python",
   "name": "python3"
  },
  "language_info": {
   "codemirror_mode": {
    "name": "ipython",
    "version": 3
   },
   "file_extension": ".py",
   "mimetype": "text/x-python",
   "name": "python",
   "nbconvert_exporter": "python",
   "pygments_lexer": "ipython3",
   "version": "3.10.8"
  }
 },
 "nbformat": 4,
 "nbformat_minor": 5
}
